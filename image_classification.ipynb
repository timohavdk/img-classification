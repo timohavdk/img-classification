{
 "cells": [
  {
   "cell_type": "markdown",
   "id": "64acc7fb-59de-4ebc-b82f-afb53cc852d2",
   "metadata": {},
   "source": [
    "# Imports"
   ]
  },
  {
   "cell_type": "code",
   "execution_count": 160,
   "id": "3379e5ef-2708-48c0-a8ed-95eda57a8aea",
   "metadata": {},
   "outputs": [],
   "source": [
    "import os\n",
    "import numpy as np\n",
    "import pandas as pd\n",
    "import transformers\n",
    "import tensorflow as tf\n",
    "import tqdm.notebook as tqdm\n",
    "import sklearn.model_selection\n",
    "import matplotlib.pyplot as plt\n",
    "import kagglehub\n",
    "import keras\n",
    "import h5py\n",
    "import PIL\n",
    "import datetime\n",
    "from sklearn.metrics import confusion_matrix, ConfusionMatrixDisplay, classification_report"
   ]
  },
  {
   "cell_type": "code",
   "execution_count": 2,
   "id": "299eafa0-89b1-46ba-b659-1bd69880b105",
   "metadata": {},
   "outputs": [],
   "source": [
    "gpus = tf.config.list_physical_devices('GPU')\n",
    "if gpus:\n",
    "    try:\n",
    "        tf.config.experimental.set_memory_growth(gpus[0], True)\n",
    "    except:\n",
    "        pass"
   ]
  },
  {
   "cell_type": "code",
   "execution_count": 82,
   "id": "f314d366-c393-4e9c-94c2-c61b8003e3ad",
   "metadata": {},
   "outputs": [],
   "source": [
    "RANDOM_SEED = 42\n",
    "BATCH_SIZE = 32\n",
    "IMAGE_SHAPE = (150, 150, 3)\n",
    "CLASS_COUNT = 6\n",
    "EPOCH = 10"
   ]
  },
  {
   "cell_type": "code",
   "execution_count": 152,
   "id": "372ec92e-39d9-4299-bb36-a8cc89247af6",
   "metadata": {},
   "outputs": [],
   "source": [
    "df_check = pd.read_csv('train.csv')"
   ]
  },
  {
   "cell_type": "markdown",
   "id": "3588f5af-a33c-4638-90d8-5cb912535790",
   "metadata": {},
   "source": [
    "# Data"
   ]
  },
  {
   "cell_type": "markdown",
   "id": "c468a19b-1395-4afc-b0c5-a799160ea671",
   "metadata": {},
   "source": [
    "Load and prepare your dataset. Dataset should have at least 10k samples in it. Each dataset cannot be used by more than two students."
   ]
  },
  {
   "cell_type": "code",
   "execution_count": 4,
   "id": "7ab2834c-2f59-4797-a9b5-b9c2427ff40f",
   "metadata": {},
   "outputs": [],
   "source": [
    "PATH_TO_DATA_SET = '/home/timohavdk/.cache/kagglehub/datasets/puneet6060/intel-image-classification/versions/2'"
   ]
  },
  {
   "cell_type": "code",
   "execution_count": 8,
   "id": "bc874386-9591-4f66-bb9a-116f2ec4ff52",
   "metadata": {
    "scrolled": true
   },
   "outputs": [
    {
     "name": "stdout",
     "output_type": "stream",
     "text": [
      "Downloading from https://www.kaggle.com/api/v1/datasets/download/puneet6060/intel-image-classification?dataset_version_number=2...\n"
     ]
    },
    {
     "name": "stderr",
     "output_type": "stream",
     "text": [
      "100%|████████████████████████████████████████████████████████████████████████████████████████████████████████████████████████████████████████████████████████████████████████████████████████████████████████████████████████████████████| 346M/346M [00:42<00:00, 8.45MB/s]"
     ]
    },
    {
     "name": "stdout",
     "output_type": "stream",
     "text": [
      "Extracting files...\n"
     ]
    },
    {
     "name": "stderr",
     "output_type": "stream",
     "text": [
      "\n"
     ]
    },
    {
     "name": "stdout",
     "output_type": "stream",
     "text": [
      "Path to dataset files: /home/timohavdk/.cache/kagglehub/datasets/puneet6060/intel-image-classification/versions/2\n"
     ]
    }
   ],
   "source": [
    "path = kagglehub.dataset_download('puneet6060/intel-image-classification')\n",
    "\n",
    "print('Path to dataset files:', path)"
   ]
  },
  {
   "cell_type": "code",
   "execution_count": 93,
   "id": "314d114b-c5ce-43da-bb19-6e0e1de93dc0",
   "metadata": {},
   "outputs": [],
   "source": [
    "def make_csv_map(path_to_folder, split_name):\n",
    "    d = {'image_path': [], 'label': []}\n",
    "    df = pd.DataFrame(data=d)\n",
    "\n",
    "    lables = os.listdir(path_to_folder)\n",
    "\n",
    "    for i in range(0, len(lables)):\n",
    "        sub_dir = f'{path_to_folder}/{lables[i]}'\n",
    "        \n",
    "        files = os.listdir(sub_dir)\n",
    "\n",
    "        for file in files:\n",
    "            file_path = f'{sub_dir}/{file}'\n",
    "            label = i\n",
    "\n",
    "            new_d = {'image_path': [file_path], 'label': [int(label)]}\n",
    "            new_df = pd.DataFrame(data=new_d)\n",
    "\n",
    "            df = pd.concat([df, new_df])\n",
    "\n",
    "    df['label'] = df['label'].astype('int32')\n",
    "    \n",
    "    df = df.sample(frac=1, random_state=RANDOM_SEED).reset_index(drop=True)\n",
    "    \n",
    "    df.to_csv(f'{split_name}.csv', index=False)\n",
    "            \n",
    "    return lables"
   ]
  },
  {
   "cell_type": "code",
   "execution_count": 94,
   "id": "15c392f3-f208-4054-a954-c48cd56dc061",
   "metadata": {},
   "outputs": [],
   "source": [
    "paths = [\n",
    "    (f'{PATH_TO_DATA_SET}/seg_train/seg_train', 'train'),\n",
    "    (f'{PATH_TO_DATA_SET}/seg_test/seg_test', 'test'),\n",
    "]"
   ]
  },
  {
   "cell_type": "code",
   "execution_count": 95,
   "id": "0afec1b4-500c-45f9-9f9f-8f9ebdc920cc",
   "metadata": {},
   "outputs": [
    {
     "name": "stdout",
     "output_type": "stream",
     "text": [
      "['glacier', 'mountain', 'street', 'sea', 'forest', 'buildings']\n",
      "['glacier', 'mountain', 'street', 'sea', 'forest', 'buildings']\n"
     ]
    }
   ],
   "source": [
    "for path, split_name in paths:\n",
    "    labels = make_csv_map(path, split_name)\n",
    "\n",
    "    print(labels)"
   ]
  },
  {
   "cell_type": "markdown",
   "id": "714bddcc-c56d-4e61-9147-054f5d7f8e7e",
   "metadata": {},
   "source": [
    "# Backbone"
   ]
  },
  {
   "cell_type": "markdown",
   "id": "c21a2f49-08a6-479a-8db7-a52d4db40d56",
   "metadata": {},
   "source": [
    "Load pretrained model from Hugging Face (or some other model repository if it's more convenient). Model should be trained on Feature Extraction task."
   ]
  },
  {
   "cell_type": "code",
   "execution_count": 38,
   "id": "de5086c3-3841-4057-b2bf-137e02d75f69",
   "metadata": {},
   "outputs": [],
   "source": [
    "RES_NET_SRC = 'microsoft/resnet-50'"
   ]
  },
  {
   "cell_type": "code",
   "execution_count": 39,
   "id": "5407eb1d-eb27-4a67-88ae-698f89c0e0b1",
   "metadata": {},
   "outputs": [],
   "source": [
    "processor = transformers.AutoImageProcessor.from_pretrained(RES_NET_SRC)"
   ]
  },
  {
   "cell_type": "markdown",
   "id": "4b81337a-c06e-4b33-9dff-61ff0c6858c9",
   "metadata": {},
   "source": [
    "Load tokenizer to be used with the model"
   ]
  },
  {
   "cell_type": "code",
   "execution_count": 40,
   "id": "4a2a1fe9-af8f-4dcd-9103-f0c9af8c1237",
   "metadata": {
    "collapsed": true,
    "jupyter": {
     "outputs_hidden": true
    },
    "scrolled": true
   },
   "outputs": [
    {
     "name": "stderr",
     "output_type": "stream",
     "text": [
      "I0000 00:00:1733654805.336045    7241 gpu_device.cc:2022] Created device /job:localhost/replica:0/task:0/device:GPU:0 with 1414 MB memory:  -> device: 0, name: NVIDIA GeForce GT 1030, pci bus id: 0000:09:00.0, compute capability: 6.1\n",
      "Some weights of the PyTorch model were not used when initializing the TF 2.0 model TFResNetModel: ['resnet.encoder.stages.2.layers.1.layer.0.normalization.num_batches_tracked', 'resnet.encoder.stages.3.layers.2.layer.1.normalization.num_batches_tracked', 'resnet.encoder.stages.3.layers.0.layer.2.normalization.num_batches_tracked', 'resnet.encoder.stages.2.layers.0.layer.2.normalization.num_batches_tracked', 'resnet.encoder.stages.1.layers.0.layer.1.normalization.num_batches_tracked', 'resnet.encoder.stages.2.layers.2.layer.1.normalization.num_batches_tracked', 'resnet.encoder.stages.2.layers.2.layer.0.normalization.num_batches_tracked', 'resnet.encoder.stages.2.layers.4.layer.0.normalization.num_batches_tracked', 'resnet.encoder.stages.1.layers.2.layer.1.normalization.num_batches_tracked', 'resnet.embedder.embedder.normalization.num_batches_tracked', 'resnet.encoder.stages.3.layers.2.layer.2.normalization.num_batches_tracked', 'resnet.encoder.stages.3.layers.1.layer.1.normalization.num_batches_tracked', 'resnet.encoder.stages.3.layers.1.layer.2.normalization.num_batches_tracked', 'resnet.encoder.stages.2.layers.3.layer.2.normalization.num_batches_tracked', 'resnet.encoder.stages.2.layers.4.layer.1.normalization.num_batches_tracked', 'resnet.encoder.stages.2.layers.4.layer.2.normalization.num_batches_tracked', 'resnet.encoder.stages.0.layers.1.layer.0.normalization.num_batches_tracked', 'resnet.encoder.stages.0.layers.1.layer.1.normalization.num_batches_tracked', 'resnet.encoder.stages.2.layers.1.layer.1.normalization.num_batches_tracked', 'resnet.encoder.stages.0.layers.2.layer.2.normalization.num_batches_tracked', 'resnet.encoder.stages.0.layers.0.layer.1.normalization.num_batches_tracked', 'resnet.encoder.stages.1.layers.3.layer.1.normalization.num_batches_tracked', 'resnet.encoder.stages.2.layers.5.layer.1.normalization.num_batches_tracked', 'resnet.encoder.stages.2.layers.0.layer.0.normalization.num_batches_tracked', 'resnet.encoder.stages.3.layers.0.layer.0.normalization.num_batches_tracked', 'resnet.encoder.stages.2.layers.3.layer.1.normalization.num_batches_tracked', 'resnet.encoder.stages.1.layers.1.layer.0.normalization.num_batches_tracked', 'classifier.1.bias', 'classifier.1.weight', 'resnet.encoder.stages.1.layers.0.layer.2.normalization.num_batches_tracked', 'resnet.encoder.stages.1.layers.2.layer.0.normalization.num_batches_tracked', 'resnet.encoder.stages.1.layers.2.layer.2.normalization.num_batches_tracked', 'resnet.encoder.stages.2.layers.5.layer.2.normalization.num_batches_tracked', 'resnet.encoder.stages.2.layers.1.layer.2.normalization.num_batches_tracked', 'resnet.encoder.stages.1.layers.1.layer.2.normalization.num_batches_tracked', 'resnet.encoder.stages.0.layers.1.layer.2.normalization.num_batches_tracked', 'resnet.encoder.stages.2.layers.3.layer.0.normalization.num_batches_tracked', 'resnet.encoder.stages.3.layers.2.layer.0.normalization.num_batches_tracked', 'resnet.encoder.stages.0.layers.2.layer.1.normalization.num_batches_tracked', 'resnet.encoder.stages.2.layers.0.shortcut.normalization.num_batches_tracked', 'resnet.encoder.stages.1.layers.3.layer.0.normalization.num_batches_tracked', 'resnet.encoder.stages.1.layers.0.shortcut.normalization.num_batches_tracked', 'resnet.encoder.stages.1.layers.0.layer.0.normalization.num_batches_tracked', 'resnet.encoder.stages.0.layers.0.shortcut.normalization.num_batches_tracked', 'resnet.encoder.stages.1.layers.3.layer.2.normalization.num_batches_tracked', 'resnet.encoder.stages.3.layers.0.layer.1.normalization.num_batches_tracked', 'resnet.encoder.stages.2.layers.2.layer.2.normalization.num_batches_tracked', 'resnet.encoder.stages.0.layers.0.layer.2.normalization.num_batches_tracked', 'resnet.encoder.stages.2.layers.5.layer.0.normalization.num_batches_tracked', 'resnet.encoder.stages.3.layers.1.layer.0.normalization.num_batches_tracked', 'resnet.encoder.stages.3.layers.0.shortcut.normalization.num_batches_tracked', 'resnet.encoder.stages.2.layers.0.layer.1.normalization.num_batches_tracked', 'resnet.encoder.stages.1.layers.1.layer.1.normalization.num_batches_tracked', 'resnet.encoder.stages.0.layers.0.layer.0.normalization.num_batches_tracked', 'resnet.encoder.stages.0.layers.2.layer.0.normalization.num_batches_tracked']\n",
      "- This IS expected if you are initializing TFResNetModel from a PyTorch model trained on another task or with another architecture (e.g. initializing a TFBertForSequenceClassification model from a BertForPreTraining model).\n",
      "- This IS NOT expected if you are initializing TFResNetModel from a PyTorch model that you expect to be exactly identical (e.g. initializing a TFBertForSequenceClassification model from a BertForSequenceClassification model).\n",
      "All the weights of TFResNetModel were initialized from the PyTorch model.\n",
      "If your task is similar to the task the model of the checkpoint was trained on, you can already use TFResNetModel for predictions without further training.\n"
     ]
    }
   ],
   "source": [
    "backbone = transformers.TFResNetModel.from_pretrained(RES_NET_SRC)"
   ]
  },
  {
   "cell_type": "markdown",
   "id": "c045f3c1-faf9-41fc-af88-a4f49c97ac13",
   "metadata": {},
   "source": [
    "# Feature extraction"
   ]
  },
  {
   "cell_type": "markdown",
   "id": "1025d0d6-3b43-440a-8791-27b3e208e415",
   "metadata": {},
   "source": [
    "Since we will not be training the backbone, extract features from your dataset."
   ]
  },
  {
   "cell_type": "markdown",
   "id": "4a2b4b64-ee2e-4a2a-8d81-161f8bf1aae4",
   "metadata": {},
   "source": [
    "Run the backbone on the images and save the extracted features. Don't forget to process the images. Images don't have to be of the same size, though it would be faster if they were. If the images don't fit in memory, lazily load them from disk"
   ]
  },
  {
   "cell_type": "code",
   "execution_count": 96,
   "id": "3449274c-3df3-48b6-afba-e2ad885b4085",
   "metadata": {},
   "outputs": [],
   "source": [
    "files_name = ['train.h5', 'test.h5']\n",
    "csv_files = ['train.csv', 'test.csv']"
   ]
  },
  {
   "cell_type": "code",
   "execution_count": 123,
   "id": "7eb81138-a100-4c2a-9f0a-e5c0eef77e05",
   "metadata": {},
   "outputs": [],
   "source": [
    "def preprocess_and_save_to_hdf5(file_name, csv_file, processor):\n",
    "    df_dataset = pd.read_csv(csv_file)\n",
    "\n",
    "    # images_count = len(df_dataset)\n",
    "    \n",
    "    with h5py.File(file_name, \"w\") as h5file:\n",
    "        images_dset = h5file.create_dataset('images', shape=(0, 2048, 7, 7), maxshape=(None, 2048, 7, 7))\n",
    "        labels_dset = h5file.create_dataset('labels', shape=(0,), maxshape=(None,))\n",
    "    \n",
    "        for i in tqdm.tqdm(range(0, 1000)):\n",
    "            image = PIL.Image.open(df_dataset['image_path'][i])\n",
    "            image = np.asarray(image)\n",
    "            \n",
    "            processed = processor(image, return_tensors=\"tf\")[\"pixel_values\"]\n",
    "            features = backbone(processed).last_hidden_state.numpy()\n",
    "            \n",
    "            images_dset.resize((images_dset.shape[0] + features.shape[0]), axis=0)\n",
    "            images_dset[-features.shape[0]:] = features\n",
    "\n",
    "            labels_dset.resize((labels_dset.shape[0] + features.shape[0]), axis=0)\n",
    "            labels_dset[-features.shape[0]:] = df_dataset['label'][i]\n",
    "        \n",
    "        print(f\"Данные сохранены в {file_name}\")"
   ]
  },
  {
   "cell_type": "code",
   "execution_count": 124,
   "id": "79d9bb4c-29da-4399-85ae-79a82e65c1e9",
   "metadata": {},
   "outputs": [
    {
     "data": {
      "application/vnd.jupyter.widget-view+json": {
       "model_id": "82e2449276ef4462a2d5de914033bf04",
       "version_major": 2,
       "version_minor": 0
      },
      "text/plain": [
       "  0%|          | 0/1000 [00:00<?, ?it/s]"
      ]
     },
     "metadata": {},
     "output_type": "display_data"
    },
    {
     "name": "stdout",
     "output_type": "stream",
     "text": [
      "Данные сохранены в train.h5\n"
     ]
    },
    {
     "data": {
      "application/vnd.jupyter.widget-view+json": {
       "model_id": "b475fd2ba90840d4952cbc7eca3ae0da",
       "version_major": 2,
       "version_minor": 0
      },
      "text/plain": [
       "  0%|          | 0/1000 [00:00<?, ?it/s]"
      ]
     },
     "metadata": {},
     "output_type": "display_data"
    },
    {
     "name": "stdout",
     "output_type": "stream",
     "text": [
      "Данные сохранены в test.h5\n"
     ]
    }
   ],
   "source": [
    "for file_name, csv_file in zip(files_name, csv_files):\n",
    "    preprocess_and_save_to_hdf5(file_name, csv_file, processor)"
   ]
  },
  {
   "cell_type": "markdown",
   "id": "2543fcff-46b0-4c05-b297-c3102f998205",
   "metadata": {},
   "source": [
    "# Prepare train/test data"
   ]
  },
  {
   "cell_type": "markdown",
   "id": "2c985c7d-9123-477e-9988-15ff5a7b26eb",
   "metadata": {},
   "source": [
    "Split your data (extracted features and labels) into train and test subsets."
   ]
  },
  {
   "cell_type": "code",
   "execution_count": 125,
   "id": "289a1234-6c10-4fd4-ae37-945ec75d6f19",
   "metadata": {},
   "outputs": [],
   "source": [
    "def check_hdf5_dataset(filepath):\n",
    "    dataset = None\n",
    "    with h5py.File(filepath, \"r\") as h5file:\n",
    "        images = h5file[\"images\"][:]\n",
    "        labels = h5file[\"labels\"][:]\n",
    "\n",
    "        print(images.shape, labels.shape)"
   ]
  },
  {
   "cell_type": "markdown",
   "id": "b1a65639-50d0-4f89-8bfe-33b7a483e406",
   "metadata": {},
   "source": [
    "Prepare `tf.data.Dataset` or some other way for the data to be used during training."
   ]
  },
  {
   "cell_type": "code",
   "execution_count": 128,
   "id": "8ce10f21-262a-4851-b8f8-931e4ef91a63",
   "metadata": {},
   "outputs": [],
   "source": [
    "def create_hdf5_dataset(h5_file_path):\n",
    "    def load_data_from_h5(index):\n",
    "        with h5py.File(h5_file_path, \"r\") as h5file:\n",
    "            features = h5file[\"images\"][index]\n",
    "            labels = h5file[\"labels\"][index]\n",
    "        return features, labels\n",
    "    \n",
    "    def get_item(index):\n",
    "        features, labels = tf.py_function(\n",
    "            func=load_data_from_h5,\n",
    "            inp=[index],\n",
    "            Tout=[tf.float32, tf.int32]\n",
    "        )\n",
    "        \n",
    "        features.set_shape((2048, 7, 7))\n",
    "        labels.set_shape(())\n",
    "        return features, labels\n",
    "    \n",
    "    with h5py.File(h5_file_path, \"r\") as h5file:\n",
    "        dataset_size = len(h5file[\"labels\"])\n",
    "\n",
    "        print(dataset_size)\n",
    "\n",
    "        indices = tf.data.Dataset.range(dataset_size)\n",
    "        dataset = indices.map(get_item, num_parallel_calls=tf.data.AUTOTUNE)\n",
    "        return dataset.batch(BATCH_SIZE).prefetch(tf.data.AUTOTUNE)"
   ]
  },
  {
   "cell_type": "code",
   "execution_count": 129,
   "id": "bf436b84-1600-4825-8c32-4cb9bfb3a4fd",
   "metadata": {},
   "outputs": [
    {
     "name": "stdout",
     "output_type": "stream",
     "text": [
      "1000\n",
      "1000\n"
     ]
    }
   ],
   "source": [
    "train_ds = create_hdf5_dataset(\"train.h5\")\n",
    "validation_ds = train_ds.take(4)\n",
    "train_ds = train_ds.skip(4)\n",
    "test_ds = create_hdf5_dataset(\"test.h5\")"
   ]
  },
  {
   "cell_type": "markdown",
   "id": "e8f74abd-ce1a-4a68-be6c-89b1abd0caa5",
   "metadata": {},
   "source": [
    "# Build the model"
   ]
  },
  {
   "cell_type": "markdown",
   "id": "78885e31-c91e-4ee5-acbf-00a107069da9",
   "metadata": {},
   "source": [
    "Build a simple model. The model should accept an extracted feature vector and return a vector of class logits (or probabilities). Model should only have a couple (or even 1) layers with weights."
   ]
  },
  {
   "cell_type": "code",
   "execution_count": 155,
   "id": "31ebed85-ad46-446e-94cb-f77056a55261",
   "metadata": {},
   "outputs": [],
   "source": [
    "def get_model():\n",
    "    inputs = keras.layers.Input(shape=(2048, 7, 7))\n",
    "    x = keras.layers.GlobalAveragePooling2D()(inputs) \n",
    "    x = keras.layers.Dense(256, activation=\"relu\")(x) \n",
    "    x = keras.layers.Dropout(0.25)(x)\n",
    "    outputs = keras.layers.Dense(CLASS_COUNT, activation=\"softmax\")(x)\n",
    "\n",
    "    model = keras.models.Model(inputs, outputs)"
   ]
  },
  {
   "cell_type": "code",
   "execution_count": 144,
   "id": "ffc94f7a-d2b0-48bf-9f0b-df5d17e01e78",
   "metadata": {},
   "outputs": [],
   "source": [
    "model = get_model()"
   ]
  },
  {
   "cell_type": "markdown",
   "id": "a5cacc4e-9876-40ff-8cd0-f1a4bfbc5c1a",
   "metadata": {},
   "source": [
    "Compile the model. Choose loss and metrics."
   ]
  },
  {
   "cell_type": "code",
   "execution_count": 145,
   "id": "2eecb84f-5dc2-4999-b911-ea0a1c64ec41",
   "metadata": {},
   "outputs": [],
   "source": [
    "model.compile(\n",
    "    optimizer=keras.optimizers.Adam(learning_rate=0.001),\n",
    "    loss=\"sparse_categorical_crossentropy\",\n",
    "    metrics=[\"accuracy\"]\n",
    ")"
   ]
  },
  {
   "cell_type": "markdown",
   "id": "3e08006d-be0a-4828-aca9-a9f37218b8de",
   "metadata": {},
   "source": [
    "# Train the model"
   ]
  },
  {
   "cell_type": "code",
   "execution_count": 161,
   "id": "e5e842c0-d445-4092-9766-ecb3cc3933a8",
   "metadata": {},
   "outputs": [],
   "source": [
    "HISTORY_DIR = './history'\n",
    "os.makedirs(HISTORY_DIR, exist_ok=True)"
   ]
  },
  {
   "cell_type": "code",
   "execution_count": 162,
   "id": "e004b158-db87-4bc2-a2ff-26c460e0a621",
   "metadata": {},
   "outputs": [],
   "source": [
    "logdir = os.path.join(HISTORY_DIR, datetime.datetime.now().strftime(\"%Y%m%d-%H%M%S\"))"
   ]
  },
  {
   "cell_type": "code",
   "execution_count": 163,
   "id": "833ddb23-aef5-4f89-b50e-706c985068ee",
   "metadata": {},
   "outputs": [],
   "source": [
    "def get_callbacks(model_name: str):\n",
    "    model_checkpoint_callback = tf.keras.callbacks.ModelCheckpoint(\n",
    "        os.path.join(logdir, f'model-{model_name}.keras'),\n",
    "        save_best_only=True\n",
    "    )\n",
    "\n",
    "    return model_checkpoint_callback"
   ]
  },
  {
   "cell_type": "code",
   "execution_count": 164,
   "id": "2805ea3b-d0e6-4c26-9d36-799b91946eb6",
   "metadata": {},
   "outputs": [],
   "source": [
    "checkpoint_callback = get_callbacks('res-net-image-classification')"
   ]
  },
  {
   "cell_type": "code",
   "execution_count": 146,
   "id": "6a30787b-7ac4-4dd3-9ea5-62c94e9aa628",
   "metadata": {
    "scrolled": true
   },
   "outputs": [
    {
     "name": "stdout",
     "output_type": "stream",
     "text": [
      "Epoch 1/3\n",
      "\u001b[1m28/28\u001b[0m \u001b[32m━━━━━━━━━━━━━━━━━━━━\u001b[0m\u001b[37m\u001b[0m \u001b[1m211s\u001b[0m 7s/step - accuracy: 0.1638 - loss: 1.7910 - val_accuracy: 0.1797 - val_loss: 1.7899\n",
      "Epoch 2/3\n",
      "\u001b[1m28/28\u001b[0m \u001b[32m━━━━━━━━━━━━━━━━━━━━\u001b[0m\u001b[37m\u001b[0m \u001b[1m211s\u001b[0m 7s/step - accuracy: 0.1813 - loss: 1.7876 - val_accuracy: 0.1797 - val_loss: 1.7868\n",
      "Epoch 3/3\n",
      "\u001b[1m28/28\u001b[0m \u001b[32m━━━━━━━━━━━━━━━━━━━━\u001b[0m\u001b[37m\u001b[0m \u001b[1m212s\u001b[0m 7s/step - accuracy: 0.1813 - loss: 1.7868 - val_accuracy: 0.1797 - val_loss: 1.7843\n"
     ]
    },
    {
     "data": {
      "text/plain": [
       "<keras.src.callbacks.history.History at 0x7ff8906834f0>"
      ]
     },
     "execution_count": 146,
     "metadata": {},
     "output_type": "execute_result"
    }
   ],
   "source": [
    "model.fit(\n",
    "    train_ds,\n",
    "    validation_data=validation_ds,\n",
    "    epochs=EPOCH,\n",
    "    callbacks=[checkpoint_callback]\n",
    ")"
   ]
  },
  {
   "cell_type": "markdown",
   "id": "3980f062-220a-4a11-b9f5-3b0e41804533",
   "metadata": {},
   "source": [
    "# Evaluation"
   ]
  },
  {
   "cell_type": "markdown",
   "id": "4b6008a2-9882-44f2-946c-23827aa5fa49",
   "metadata": {},
   "source": [
    "Evalute the model on test data."
   ]
  },
  {
   "cell_type": "code",
   "execution_count": 147,
   "id": "1b4ddf9e-5710-4c7f-ac58-4d94742c0d14",
   "metadata": {},
   "outputs": [
    {
     "name": "stdout",
     "output_type": "stream",
     "text": [
      "\u001b[1m32/32\u001b[0m \u001b[32m━━━━━━━━━━━━━━━━━━━━\u001b[0m\u001b[37m\u001b[0m \u001b[1m182s\u001b[0m 6s/step - accuracy: 0.1615 - loss: 1.7899\n"
     ]
    },
    {
     "data": {
      "text/plain": [
       "[1.7914137840270996, 0.1509999930858612]"
      ]
     },
     "execution_count": 147,
     "metadata": {},
     "output_type": "execute_result"
    }
   ],
   "source": [
    "model.evaluate(test_ds)"
   ]
  },
  {
   "cell_type": "markdown",
   "id": "c96f4ae8-6b6c-4c4d-94dc-be8062b7e982",
   "metadata": {},
   "source": [
    "Plot confusion matrix."
   ]
  },
  {
   "cell_type": "code",
   "execution_count": 148,
   "id": "9bb55621-cf4f-46c9-b6ce-4d4424110bc7",
   "metadata": {},
   "outputs": [],
   "source": [
    "images_test = None\n",
    "labels_test = None\n",
    "\n",
    "with h5py.File('test.h5', \"r\") as h5file:\n",
    "    images_test = h5file[\"images\"][:]\n",
    "    labels_test = h5file[\"labels\"][:]"
   ]
  },
  {
   "cell_type": "code",
   "execution_count": 149,
   "id": "441b3f93-e63e-4bba-8459-97b0cad3d7e4",
   "metadata": {},
   "outputs": [
    {
     "data": {
      "text/plain": [
       "(1000, 2048, 7, 7)"
      ]
     },
     "execution_count": 149,
     "metadata": {},
     "output_type": "execute_result"
    }
   ],
   "source": [
    "images_test.shape"
   ]
  },
  {
   "cell_type": "code",
   "execution_count": 150,
   "id": "870957f7-12cb-4947-ad56-4bd6b7c3ca2c",
   "metadata": {},
   "outputs": [
    {
     "name": "stdout",
     "output_type": "stream",
     "text": [
      "\u001b[1m32/32\u001b[0m \u001b[32m━━━━━━━━━━━━━━━━━━━━\u001b[0m\u001b[37m\u001b[0m \u001b[1m1s\u001b[0m 12ms/step\n"
     ]
    }
   ],
   "source": [
    "predictions = model.predict(images_test)"
   ]
  },
  {
   "cell_type": "code",
   "execution_count": 151,
   "id": "d54494dd-89d4-4f0d-873a-adb4efcbccca",
   "metadata": {},
   "outputs": [
    {
     "data": {
      "image/png": "[encoded data removed]",
      "text/plain": [
       "<Figure size 640x480 with 2 Axes>"
      ]
     },
     "metadata": {},
     "output_type": "display_data"
    }
   ],
   "source": [
    "predicted_labels = np.argmax(predictions, axis=1)\n",
    "conf_matrix = confusion_matrix(labels_test, predicted_labels)\n",
    "\n",
    "disp = ConfusionMatrixDisplay(confusion_matrix=conf_matrix, display_labels=[0, 1, 2, 3, 4, 5])\n",
    "disp.plot(cmap=\"Blues\", values_format=\"d\")\n",
    "plt.title(\"Confusion Matrix\")\n",
    "plt.show()"
   ]
  },
  {
   "cell_type": "markdown",
   "id": "dd5b8f73-9ea8-456c-9768-d82495c2b824",
   "metadata": {},
   "source": [
    "Perform dimensiality reduction and plot the extracted features. Do classes form clusters?"
   ]
  },
  {
   "cell_type": "code",
   "execution_count": null,
   "id": "56afdf2c-47ab-490d-b1b1-b5858b32a689",
   "metadata": {},
   "outputs": [],
   "source": []
  },
  {
   "cell_type": "markdown",
   "id": "dd49c775-eded-4a49-b7f4-9903185a7b9d",
   "metadata": {},
   "source": [
    "# Bonus"
   ]
  },
  {
   "cell_type": "markdown",
   "id": "726c617b-7110-4761-9806-975d5f84bf41",
   "metadata": {},
   "source": [
    "Check if the feature extractor model can be used without a classifier layer (how large is the average feature vector similarity inbetween the same and different classes)"
   ]
  },
  {
   "cell_type": "code",
   "execution_count": null,
   "id": "f5bbbaf8-68f6-4aa1-af37-f29b1edae464",
   "metadata": {},
   "outputs": [],
   "source": []
  }
 ],
 "metadata": {
  "kernelspec": {
   "display_name": "Python 3 (ipykernel)",
   "language": "python",
   "name": "python3"
  },
  "language_info": {
   "codemirror_mode": {
    "name": "ipython",
    "version": 3
   },
   "file_extension": ".py",
   "mimetype": "text/x-python",
   "name": "python",
   "nbconvert_exporter": "python",
   "pygments_lexer": "ipython3",
   "version": "3.10.15"
  }
 },
 "nbformat": 4,
 "nbformat_minor": 5
}
